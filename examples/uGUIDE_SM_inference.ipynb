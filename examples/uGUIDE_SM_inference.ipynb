{
 "cells": [
  {
   "cell_type": "markdown",
   "metadata": {},
   "source": [
    "# uGUIDE - Example on the Standard Model"
   ]
  },
  {
   "cell_type": "markdown",
   "metadata": {},
   "source": [
    "### Import relevant libraries"
   ]
  },
  {
   "cell_type": "code",
   "execution_count": null,
   "metadata": {},
   "outputs": [],
   "source": [
    "import numpy as np\n",
    "import pandas as pd\n",
    "\n",
    "from uGUIDE.config_utils import create_config_uGUIDE, save_config_uGUIDE\n",
    "from uGUIDE.data_utils import preprocess_data, postprocess_SM\n",
    "from uGUIDE.inference import run_inference\n",
    "from uGUIDE.estimation import estimate_microstructure"
   ]
  },
  {
   "cell_type": "markdown",
   "metadata": {},
   "source": [
    "### Load training data\n",
    "Theta: Model parameters of the Standard Model <br>\n",
    "x: Corresponding diffusion signal"
   ]
  },
  {
   "cell_type": "code",
   "execution_count": null,
   "metadata": {},
   "outputs": [],
   "source": [
    "theta_train = pd.read_csv('simulations_SM_train_10000__f_Da_ODI_u0_u1.csv', header=None).values\n",
    "x_train = pd.read_csv(f'simulations_SM_train_10000__S_snr_50.csv', header=None).values"
   ]
  },
  {
   "cell_type": "markdown",
   "metadata": {},
   "source": [
    "Load b-values used for generating the diffusion signal. We use it to normalize the training data. <br>\n",
    "*preprocess_data* also removes any invalid simulation."
   ]
  },
  {
   "cell_type": "code",
   "execution_count": null,
   "metadata": {},
   "outputs": [],
   "source": [
    "bvals = np.loadtxt('bvals.bval')\n",
    "theta_train, x_train = preprocess_data(theta_train, x_train, bvals, normalize=True)"
   ]
  },
  {
   "cell_type": "markdown",
   "metadata": {},
   "source": [
    "### Define the configuration parameters used for training uGUIDE\n",
    "We save them into a file, so it can be used for estimating parameters on another dataset."
   ]
  },
  {
   "cell_type": "code",
   "execution_count": null,
   "metadata": {},
   "outputs": [],
   "source": [
    "prior = {'f': [0.0, 1.0],\n",
    "         'Da': [0.1, 3.0],\n",
    "         'ODI': [0.03, 0.95],\n",
    "         'u0': [0.0, 1.0],\n",
    "         'u1': [0.0, 1.0]}\n",
    "prior_postprocessing = {'f': [0.0, 1.0],\n",
    "                        'Da': [0.1, 3.0],\n",
    "                        'ODI': [0.03, 0.95],\n",
    "                        'De_par': [0.1, 3.0],\n",
    "                        'De_perp': [0.1, 3.0]}\n",
    "config = create_config_uGUIDE(microstructure_model_name='Standard_Model',\n",
    "                              size_x=x_train.shape[1],\n",
    "                              prior=prior,\n",
    "                              prior_postprocessing=prior_postprocessing,\n",
    "                              use_MLP=True,\n",
    "                              nf_features=6,\n",
    "                              max_epochs=200,\n",
    "                              n_epochs_no_change=10,\n",
    "                              nb_samples=50_000,\n",
    "                              random_seed=1234)\n",
    "save_config_uGUIDE(config, savefile='config_postprocessing.pkl')\n",
    "print(f'Device used for computations: {config[\"device\"]}')"
   ]
  },
  {
   "cell_type": "markdown",
   "metadata": {},
   "source": [
    "### Run inference"
   ]
  },
  {
   "cell_type": "code",
   "execution_count": null,
   "metadata": {},
   "outputs": [],
   "source": [
    "run_inference(theta_train, x_train, config=config,\n",
    "              plot_loss=True, load_state=False)"
   ]
  },
  {
   "cell_type": "markdown",
   "metadata": {},
   "source": [
    "### Load testing data"
   ]
  },
  {
   "cell_type": "code",
   "execution_count": null,
   "metadata": {},
   "outputs": [],
   "source": [
    "theta_test = pd.read_csv('simulations_SM_test_1000__f_Da_ODI_u0_u1.csv', header=None).values\n",
    "x_test = pd.read_csv(f'simulations_SM_test_1000__S_snr_50.csv', header=None).values\n",
    "theta_test, x_test = preprocess_data(theta_test, x_test, bvals, normalize=True)"
   ]
  },
  {
   "cell_type": "markdown",
   "metadata": {},
   "source": [
    "### Estimate the posterior distributions of an example signal\n",
    "Plot the obtained distributions and the ground truth parameters that were used to generate the signal."
   ]
  },
  {
   "cell_type": "code",
   "execution_count": null,
   "metadata": {},
   "outputs": [],
   "source": [
    "# Without postprocessing\n",
    "_ = estimate_microstructure(x_test[1,:], config, plot=True,\n",
    "                            theta_gt=theta_test[1,:])"
   ]
  },
  {
   "cell_type": "code",
   "execution_count": null,
   "metadata": {},
   "outputs": [],
   "source": [
    "# With postprocessing\n",
    "# Convert u0 and u1 to De_par and De_perp and plot results\n",
    "_ = estimate_microstructure(x_test[1,:], config, postprocessing=postprocess_SM,\n",
    "                            plot=True)"
   ]
  }
 ],
 "metadata": {
  "kernelspec": {
   "display_name": "gpu",
   "language": "python",
   "name": "python3"
  },
  "language_info": {
   "codemirror_mode": {
    "name": "ipython",
    "version": 3
   },
   "file_extension": ".py",
   "mimetype": "text/x-python",
   "name": "python",
   "nbconvert_exporter": "python",
   "pygments_lexer": "ipython3",
   "version": "3.8.18"
  }
 },
 "nbformat": 4,
 "nbformat_minor": 2
}
